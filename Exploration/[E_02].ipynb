{
  "nbformat": 4,
  "nbformat_minor": 0,
  "metadata": {
    "colab": {
      "name": "[E_02].ipynb",
      "provenance": [],
      "collapsed_sections": []
    },
    "kernelspec": {
      "name": "python3",
      "display_name": "Python 3"
    },
    "language_info": {
      "name": "python"
    }
  },
  "cells": [
    {
      "cell_type": "markdown",
      "source": [
        "# ➰ 목표\n",
        "\n",
        "### 🌼 프로젝트1\n",
        "####: 손수 선형회귀를 설계하여 당뇨병 수치를 맞춰보자\n",
        "\n",
        "- 프로젝트 1을 통해 손실함수, 모델, 기울기 등을 직접 구현하여 다변수 선형회귀의 흐음을 파악하고 이해한다.  \n",
        "  \n",
        "    \n",
        "### 🌼 프로젝트2\n",
        "####: 시간, 온도, 습도, 계절등의 정보가 담긴 데이터를 통해 자전거의 대여량을 예측하자\n",
        "\n",
        "- 프로젝트 2을 통해 기존의 모델을 활용하여 다변수 선형회귀의 흐음을 파악하고 이해한다\n",
        "\n",
        "### 🌼 추가학습\n",
        "-  더 나아가 다양한 회귀 모델로 학습을 진행한 후 가장 좋은 성능을 보이는 모델을 통해 직접 구현한 다양한 손실함수를 적용해보고 각 프로젝트에는 어떠한 손실함수를 사용했을 때 성능이 가장 좋은가를 파악해 본다.  \n",
        "\n",
        "### 🌼 학습과정\n",
        "- 데이터 가져오기\n",
        "- 모델 준비하기\n",
        "- 모델 학습 후, 성능 확인하기\n",
        "- 예측 데이터 시각화하기"
      ],
      "metadata": {
        "id": "XtIeKlZbnKTZ"
      }
    },
    {
      "cell_type": "markdown",
      "source": [
        "# ➰ 프로젝트를 진행하는 데 필요한 라이브러리"
      ],
      "metadata": {
        "id": "NUESE364CnX5"
      }
    },
    {
      "cell_type": "code",
      "source": [
        "\n",
        "from sklearn.datasets import load_diabetes # 당뇨병 데이터셋 가져오기\n",
        "\n",
        "from sklearn.model_selection import train_test_split\n",
        "# 데이터를 train data, test data로 분리하기 위한 함수\n",
        "\n",
        "import pandas as pd # DataFrame 사용라여 데이터 파악하기 위함\n",
        "import numpy as np # 데이터간의 상관관계를 파악하기 위함\n",
        "import matplotlib.pyplot as plt # 데이터를 시각화함으로써 직관적으로 확인하기 위함\n"
      ],
      "metadata": {
        "id": "p4zMsblmCoFc"
      },
      "execution_count": 133,
      "outputs": []
    },
    {
      "cell_type": "markdown",
      "source": [
        "# ➰ 프로젝트1"
      ],
      "metadata": {
        "id": "ZTXiqf9pzoIZ"
      }
    },
    {
      "cell_type": "markdown",
      "source": [
        "### 🌼 데이터 가져오기"
      ],
      "metadata": {
        "id": "9-FozgcwCqFV"
      }
    },
    {
      "cell_type": "markdown",
      "source": [
        "- diabetes 내의 데이터 확인하기"
      ],
      "metadata": {
        "id": "ScmS2yve2btR"
      }
    },
    {
      "cell_type": "code",
      "execution_count": 134,
      "metadata": {
        "colab": {
          "base_uri": "https://localhost:8080/"
        },
        "id": "mZVk4tMGChwa",
        "outputId": "b830866e-3dfa-4429-a32d-045f314353af"
      },
      "outputs": [
        {
          "output_type": "stream",
          "name": "stdout",
          "text": [
            "dict_keys(['data', 'target', 'frame', 'DESCR', 'feature_names', 'data_filename', 'target_filename', 'data_module'])\n",
            "(442, 10)\n",
            "[ 0.03807591  0.05068012  0.06169621  0.02187235 -0.0442235  -0.03482076\n",
            " -0.04340085 -0.00259226  0.01990842 -0.01764613]\n",
            "['age', 'sex', 'bmi', 'bp', 's1', 's2', 's3', 's4', 's5', 's6']\n",
            "(442,)\n",
            "[151.  75. 141. 206. 135.  97. 138.  63. 110. 310. 101.  69. 179. 185.\n",
            " 118. 171. 166. 144.  97. 168.]\n"
          ]
        }
      ],
      "source": [
        "\n",
        "diabetes = load_diabetes() # load_diabetes데이터 호출\n",
        "\n",
        "print(diabetes.keys()) # diabetes내에 존재하는 데이터 확인\n",
        "# dict_keys(['data', 'target', 'frame', 'DESCR', 'feature_names', 'data_filename', 'target_filename', 'data_module'])\n",
        "\n",
        "df_X = diabetes.data # feature data 지정\n",
        "df_y = diabetes.target # label data 지정\n",
        "\n",
        "print(df_X.shape) # (442, 10) 442개의 데이터가 있고 각각 10개의 데이터를 가지고 있음\n",
        "print(diabetes.data[0]) # 첫번째 데이터 확인\n",
        "\n",
        "# [ 0.03807591  0.05068012  0.06169621  0.02187235 -0.0442235  -0.03482076\n",
        "#  -0.04340085 -0.00259226  0.01990842 -0.01764613]\n",
        "\n",
        "print(diabetes.feature_names) # 위의 데이터가 각각 무엇을 의미하는 지 파악\n",
        "\n",
        "# ['age', 'sex', 'bmi', 'bp', 's1', 's2', 's3', 's4', 's5', 's6']\n",
        "\n",
        "print(df_y.shape) #(442, ) 442개의 label데이터 존재\n",
        "print(df_y[:20]) # 당뇨병 수치 확인\n"
      ]
    },
    {
      "cell_type": "markdown",
      "source": [
        "\n",
        "> : diabetes의 첫번째 행을 보면 나이 값이 0.038076인 것을 확인할 수 있는데 이는 사이킷런에서 모튼 특성이 -0.2 ~ 0.2사이에 분포하도록 해서 그렇다.\n",
        "\n",
        "\n",
        "\n"
      ],
      "metadata": {
        "id": "gH31j1EB39oy"
      }
    },
    {
      "cell_type": "code",
      "source": [
        "print(diabetes.DESCR) # 데이터에 대한 요약 정보 확인"
      ],
      "metadata": {
        "colab": {
          "base_uri": "https://localhost:8080/"
        },
        "id": "igjq4MSQRD9H",
        "outputId": "ad719019-015f-4070-ae06-18e59ffc2948"
      },
      "execution_count": 135,
      "outputs": [
        {
          "output_type": "stream",
          "name": "stdout",
          "text": [
            ".. _diabetes_dataset:\n",
            "\n",
            "Diabetes dataset\n",
            "----------------\n",
            "\n",
            "Ten baseline variables, age, sex, body mass index, average blood\n",
            "pressure, and six blood serum measurements were obtained for each of n =\n",
            "442 diabetes patients, as well as the response of interest, a\n",
            "quantitative measure of disease progression one year after baseline.\n",
            "\n",
            "**Data Set Characteristics:**\n",
            "\n",
            "  :Number of Instances: 442\n",
            "\n",
            "  :Number of Attributes: First 10 columns are numeric predictive values\n",
            "\n",
            "  :Target: Column 11 is a quantitative measure of disease progression one year after baseline\n",
            "\n",
            "  :Attribute Information:\n",
            "      - age     age in years\n",
            "      - sex\n",
            "      - bmi     body mass index\n",
            "      - bp      average blood pressure\n",
            "      - s1      tc, total serum cholesterol\n",
            "      - s2      ldl, low-density lipoproteins\n",
            "      - s3      hdl, high-density lipoproteins\n",
            "      - s4      tch, total cholesterol / HDL\n",
            "      - s5      ltg, possibly log of serum triglycerides level\n",
            "      - s6      glu, blood sugar level\n",
            "\n",
            "Note: Each of these 10 feature variables have been mean centered and scaled by the standard deviation times `n_samples` (i.e. the sum of squares of each column totals 1).\n",
            "\n",
            "Source URL:\n",
            "https://www4.stat.ncsu.edu/~boos/var.select/diabetes.html\n",
            "\n",
            "For more information see:\n",
            "Bradley Efron, Trevor Hastie, Iain Johnstone and Robert Tibshirani (2004) \"Least Angle Regression,\" Annals of Statistics (with discussion), 407-499.\n",
            "(https://web.stanford.edu/~hastie/Papers/LARS/LeastAngle_2002.pdf)\n"
          ]
        }
      ]
    },
    {
      "cell_type": "markdown",
      "source": [
        "|변수(feature, variable)| 정의||변수(feature, variable)| 정의\n",
        "|-----|------||-----|------|\n",
        "|age|나이|sex|성별\n",
        "|bmi|체질량 지수|bp|평균 혈압\n",
        "|s1|tc, 총 혈청 콜레스테롤|s2|ldl, 저밀도 지단백질\n",
        "|s3|hdl, 고밀도 지단백질|s4|ch, 총 콜레스테롤/HDL\n",
        "|s5|ltg, 아마도 혈청 트리글리세리드 수준의 로그|s6|xglu, 혈당 수치"
      ],
      "metadata": {
        "id": "Ix4apgq2r08Z"
      }
    },
    {
      "cell_type": "markdown",
      "source": [
        "\n",
        "> diabetes.DESCR을 통해 당뇨병 수치를 결정하는 데에는 bmi와 혈당 수치를 나타내는 s6가 중요한 요소가 될 것이라는 가설을 세울 수 있다\n",
        "\n",
        "\n"
      ],
      "metadata": {
        "id": "Aq-3mZlOnHbk"
      }
    },
    {
      "cell_type": "markdown",
      "source": [
        "- DataFrame을 통해 데이터 파악하기"
      ],
      "metadata": {
        "id": "NXhBQu2_TPoY"
      }
    },
    {
      "cell_type": "code",
      "source": [
        "df_diabetes = pd.DataFrame(diabetes.data, columns=diabetes.feature_names) # diabetes의 데이터를 한 눈에 파악하기 위해 DataFrame 생성\n",
        "df_diabetes[\"label\"] = df_y # 생성한 DataFrame에 당뇨병 수치를 나타내는 label 컬럼 추가\n",
        "\n",
        "print(df_diabetes.head()) # 데이터 확인"
      ],
      "metadata": {
        "id": "X2F0GSVp2lJw",
        "colab": {
          "base_uri": "https://localhost:8080/"
        },
        "outputId": "8dea4014-03e5-4552-a4aa-7fc51e9c29f5"
      },
      "execution_count": 136,
      "outputs": [
        {
          "output_type": "stream",
          "name": "stdout",
          "text": [
            "        age       sex       bmi        bp        s1        s2        s3  \\\n",
            "0  0.038076  0.050680  0.061696  0.021872 -0.044223 -0.034821 -0.043401   \n",
            "1 -0.001882 -0.044642 -0.051474 -0.026328 -0.008449 -0.019163  0.074412   \n",
            "2  0.085299  0.050680  0.044451 -0.005671 -0.045599 -0.034194 -0.032356   \n",
            "3 -0.089063 -0.044642 -0.011595 -0.036656  0.012191  0.024991 -0.036038   \n",
            "4  0.005383 -0.044642 -0.036385  0.021872  0.003935  0.015596  0.008142   \n",
            "\n",
            "         s4        s5        s6  label  \n",
            "0 -0.002592  0.019908 -0.017646  151.0  \n",
            "1 -0.039493 -0.068330 -0.092204   75.0  \n",
            "2 -0.002592  0.002864 -0.025930  141.0  \n",
            "3  0.034309  0.022692 -0.009362  206.0  \n",
            "4 -0.002592 -0.031991 -0.046641  135.0  \n"
          ]
        }
      ]
    },
    {
      "cell_type": "code",
      "source": [
        "# 직관적인 데이터 확인\n",
        "fig, ax = plt.subplots(5, 2, figsize=(10, 25))\n",
        "\n",
        "li = [['age', 'sex'], ['bmi', 'bp'], ['s1', 's2'], ['s3', 's4'], ['s5', 's6']]\n",
        "count = 0\n",
        "\n",
        "for i, j in li:\n",
        "\n",
        "  ax[count, 0].scatter(df_diabetes[i], df_diabetes['label'])\n",
        "  ax[count, 0].set_xlabel(i)\n",
        "  ax[count, 0].set_ylabel(\"label\")\n",
        "\n",
        "  ax[count, 1].scatter(df_diabetes[j], df_diabetes['label'])\n",
        "  ax[count, 1].set_xlabel(j)\n",
        "  ax[count, 1].set_ylabel(\"label\")\n",
        "  count += 1\n",
        "\n",
        "plt.show()"
      ],
      "metadata": {
        "colab": {
          "base_uri": "https://localhost:8080/",
          "height": 1000
        },
        "id": "vMwQKovPrBKW",
        "outputId": "2914985d-1657-41c0-b355-089b71e05acb"
      },
      "execution_count": 137,
      "outputs": [
        {
          "output_type": "display_data",
          "data": {
            "text/plain": [
              "<Figure size 720x1800 with 10 Axes>"
            ],
            "image/png": "[encoded data removed]"
          },
          "metadata": {
            "needs_background": "light"
          }
        }
      ]
    },
    {
      "cell_type": "markdown",
      "source": [
        "\n",
        "\n",
        "> 위 산점도를 통해 각 데이터와 label의 상관관계를 파악할 수 있고 s4에서는 특정 수치가 있다는 사실을 확인 할 수 있습니다.\n",
        "\n",
        "\n",
        "\n"
      ],
      "metadata": {
        "id": "NsC4gbwU0UAO"
      }
    },
    {
      "cell_type": "markdown",
      "source": [
        "- 정확한 상관계수 파악"
      ],
      "metadata": {
        "id": "MwtcpCqN1Vqy"
      }
    },
    {
      "cell_type": "code",
      "source": [
        "\n",
        "li = ['age', 'sex', 'bmi', 'bp', 's1', 's2', 's3', 's4', 's5', 's6'] # label 데이터와의 상관관계를 파악할 컬럼 리스트\n",
        "\n",
        "for i in li:\n",
        "  print(i, \"와 label의 상관관계\") # 어떤 컬럼과의 상관관계인지 나타냄\n",
        "  print(np.corrcoef(df_diabetes[i], df_diabetes[\"label\"]), end=\"\\n\\n\") # i에 들어갈 컬럼과 label 컬럼의 상관관계를 나타내는 함수\n"
      ],
      "metadata": {
        "colab": {
          "base_uri": "https://localhost:8080/"
        },
        "id": "Ty2p7pYSSMv7",
        "outputId": "98f23490-f427-445e-9b81-c86413dc500f"
      },
      "execution_count": 138,
      "outputs": [
        {
          "output_type": "stream",
          "name": "stdout",
          "text": [
            "age 와 label의 상관관계\n",
            "[[1.         0.18788875]\n",
            " [0.18788875 1.        ]]\n",
            "\n",
            "sex 와 label의 상관관계\n",
            "[[1.       0.043062]\n",
            " [0.043062 1.      ]]\n",
            "\n",
            "bmi 와 label의 상관관계\n",
            "[[1.         0.58645013]\n",
            " [0.58645013 1.        ]]\n",
            "\n",
            "bp 와 label의 상관관계\n",
            "[[1.         0.44148385]\n",
            " [0.44148385 1.        ]]\n",
            "\n",
            "s1 와 label의 상관관계\n",
            "[[1.         0.21202248]\n",
            " [0.21202248 1.        ]]\n",
            "\n",
            "s2 와 label의 상관관계\n",
            "[[1.         0.17405359]\n",
            " [0.17405359 1.        ]]\n",
            "\n",
            "s3 와 label의 상관관계\n",
            "[[ 1.         -0.39478925]\n",
            " [-0.39478925  1.        ]]\n",
            "\n",
            "s4 와 label의 상관관계\n",
            "[[1.         0.43045288]\n",
            " [0.43045288 1.        ]]\n",
            "\n",
            "s5 와 label의 상관관계\n",
            "[[1.         0.56588343]\n",
            " [0.56588343 1.        ]]\n",
            "\n",
            "s6 와 label의 상관관계\n",
            "[[1.         0.38248348]\n",
            " [0.38248348 1.        ]]\n",
            "\n"
          ]
        }
      ]
    },
    {
      "cell_type": "markdown",
      "source": [
        "\n",
        "\n",
        "> 위 코드를 통해 당뇨병 수치를 나타내는 label를 결정하는 데 중요한 요소가 되는 컬럼이 무엇인지 알 수 있다.\n",
        "\n",
        "> bmi > s5 > bp > s4 > s3 > s6 > s1 > age > s2 > sex 순으로 상관관계가 높은 것을 확인할 수 있다.\n",
        "\n",
        "> 이를 통해 앞서 세운 bmi와 혈당 수치를 나타내는 s6가 중요한 요소가 될 것이라는 가설의 일부분이 맞음을 알 수 있다. 중요한 요소가 될 것이라 생각한 s6와는 달리 s4, s3가 더 중요한 요소임을 파악할 수 있다.\n",
        "\n",
        "\n"
      ],
      "metadata": {
        "id": "KULakscqmOvL"
      }
    },
    {
      "cell_type": "markdown",
      "source": [
        "### 🌼 모델 준비하기\n",
        "\n",
        "- train data, test data 분리 기능을 하는 함수\n",
        "- 손실함수 loss 값을 구하는 기능을 하는 함수\n",
        "- 기울기를 구하는 기능을 하는 gradient 함수\n",
        "- 하이퍼 파라미터인 학습률 입력 받아 설정하기\n",
        "\n",
        ": 위의 4가지 기능을 하는 클래스를 생성"
      ],
      "metadata": {
        "id": "_VikQEEmkvuo"
      }
    },
    {
      "cell_type": "code",
      "source": [
        "class Regression_Model:\n",
        "\n",
        "  def __init__(self, data, label, learning_rate=0.001): # 데이터 초기화 함수\n",
        "    self.data = data # data 변수 초기화\n",
        "    self.label = label # label 변수 초기화\n",
        "\n",
        "    self.w = None # 가중치 초기화\n",
        "    self.b = None #모델의 bias\n",
        "\n",
        "    self.losses = []\n",
        "\n",
        "    self.learning_rate = learning_rate # learning_rate 변수 초기화\n",
        "\n",
        "  def data_split(self):  # 데이터 분리 함수 생성\n",
        "    X_train, X_test, y_train, y_test = train_test_split(self.data, self.label,\n",
        "                                                            test_size=0.2, random_state=7)\n",
        "    return X_train, X_test, y_train, y_test\n",
        "    \n",
        "  def mse_loss(self, x, y):\n",
        "    y_pred = self.model(x)\n",
        "    loss = ((y_pred - y) ** 2).mean()  # 두 값의 차이의 제곱의 평균\n",
        "    \n",
        "    return loss\n",
        "    \n",
        "  def gradient(self, x, y):\n",
        "    N = len(self.w) # 가중치의 개수\n",
        "\n",
        "    y_pred = self.model(x)\n",
        "    \n",
        "    dw = 1 / N * 2 * x.T.dot(y_pred - y) # 공식에 맞게 gradient 계산\n",
        "    db = 2 * (y_pred - y).mean() # b의 gradient 계산\n",
        "\n",
        "    return dw, db, y_pred\n",
        "    \n",
        "  def model(self, x):\n",
        "    predictions = 0\n",
        "    for i in range(10):\n",
        "        predictions += x[:, i] * self.w[i]\n",
        "    predictions += self.b\n",
        "    return predictions\n",
        "\n",
        "  def fit(self):\n",
        "    X_train, X_test, y_train, y_test = self.data_split()\n",
        "\n",
        "    self.w = np.random.rand(10) # 10개의 난수 랜덤 생성\n",
        "    self.b = np.random.rand()\n",
        "\n",
        "    for i in range(1, 1001):\n",
        "      dw, db, y_pred = self.gradient(X_train, y_train)\n",
        "      self.w -= self.learning_rate * dw\n",
        "      self.b -= self.learning_rate * db\n",
        "      loss = self.mse_loss(X_train, y_train)\n",
        "      self.losses.append(loss)\n",
        "\n",
        "      if i % 10 == 0:\n",
        "        print('Iteration %d : Loss %0.4f' % (i, loss))\n",
        "\n",
        "    return X_test, y_test, y_pred\n",
        "\n",
        "    def loss_plot(self):\n",
        "      plt.plot(self.losses)\n",
        "      plt.show()\n",
        "  "
      ],
      "metadata": {
        "id": "6R0BIFtVkQbu"
      },
      "execution_count": 139,
      "outputs": []
    },
    {
      "cell_type": "markdown",
      "source": [
        "### 🌼 모델 학습 후, 성능 확인하기\n",
        "\n"
      ],
      "metadata": {
        "id": "36qhDYpWkqPn"
      }
    },
    {
      "cell_type": "code",
      "source": [
        "model = Regression_Model(data=df_X, label=df_y, learning_rate=0.001)\n",
        "a, b, c = model.fit()"
      ],
      "metadata": {
        "colab": {
          "base_uri": "https://localhost:8080/"
        },
        "id": "DpR-2H5cP2E9",
        "outputId": "9f935234-df20-4e95-8302-de99b3fa7cea"
      },
      "execution_count": 140,
      "outputs": [
        {
          "output_type": "stream",
          "name": "stdout",
          "text": [
            "Iteration 10 : Loss 28853.4677\n",
            "Iteration 20 : Loss 27930.5037\n",
            "Iteration 30 : Loss 27042.9788\n",
            "Iteration 40 : Loss 26189.5108\n",
            "Iteration 50 : Loss 25368.7716\n",
            "Iteration 60 : Loss 24579.4852\n",
            "Iteration 70 : Loss 23820.4255\n",
            "Iteration 80 : Loss 23090.4144\n",
            "Iteration 90 : Loss 22388.3202\n",
            "Iteration 100 : Loss 21713.0551\n",
            "Iteration 110 : Loss 21063.5742\n",
            "Iteration 120 : Loss 20438.8735\n",
            "Iteration 130 : Loss 19837.9881\n",
            "Iteration 140 : Loss 19259.9910\n",
            "Iteration 150 : Loss 18703.9917\n",
            "Iteration 160 : Loss 18169.1341\n",
            "Iteration 170 : Loss 17654.5960\n",
            "Iteration 180 : Loss 17159.5873\n",
            "Iteration 190 : Loss 16683.3486\n",
            "Iteration 200 : Loss 16225.1504\n",
            "Iteration 210 : Loss 15784.2919\n",
            "Iteration 220 : Loss 15360.0993\n",
            "Iteration 230 : Loss 14951.9256\n",
            "Iteration 240 : Loss 14559.1488\n",
            "Iteration 250 : Loss 14181.1713\n",
            "Iteration 260 : Loss 13817.4190\n",
            "Iteration 270 : Loss 13467.3402\n",
            "Iteration 280 : Loss 13130.4046\n",
            "Iteration 290 : Loss 12806.1029\n",
            "Iteration 300 : Loss 12493.9455\n",
            "Iteration 310 : Loss 12193.4620\n",
            "Iteration 320 : Loss 11904.2004\n",
            "Iteration 330 : Loss 11625.7264\n",
            "Iteration 340 : Loss 11357.6227\n",
            "Iteration 350 : Loss 11099.4881\n",
            "Iteration 360 : Loss 10850.9374\n",
            "Iteration 370 : Loss 10611.6001\n",
            "Iteration 380 : Loss 10381.1203\n",
            "Iteration 390 : Loss 10159.1562\n",
            "Iteration 400 : Loss 9945.3791\n",
            "Iteration 410 : Loss 9739.4732\n",
            "Iteration 420 : Loss 9541.1351\n",
            "Iteration 430 : Loss 9350.0730\n",
            "Iteration 440 : Loss 9166.0069\n",
            "Iteration 450 : Loss 8988.6673\n",
            "Iteration 460 : Loss 8817.7954\n",
            "Iteration 470 : Loss 8653.1427\n",
            "Iteration 480 : Loss 8494.4700\n",
            "Iteration 490 : Loss 8341.5476\n",
            "Iteration 500 : Loss 8194.1549\n",
            "Iteration 510 : Loss 8052.0797\n",
            "Iteration 520 : Loss 7915.1180\n",
            "Iteration 530 : Loss 7783.0741\n",
            "Iteration 540 : Loss 7655.7596\n",
            "Iteration 550 : Loss 7532.9935\n",
            "Iteration 560 : Loss 7414.6020\n",
            "Iteration 570 : Loss 7300.4179\n",
            "Iteration 580 : Loss 7190.2805\n",
            "Iteration 590 : Loss 7084.0354\n",
            "Iteration 600 : Loss 6981.5343\n",
            "Iteration 610 : Loss 6882.6346\n",
            "Iteration 620 : Loss 6787.1992\n",
            "Iteration 630 : Loss 6695.0963\n",
            "Iteration 640 : Loss 6606.1993\n",
            "Iteration 650 : Loss 6520.3866\n",
            "Iteration 660 : Loss 6437.5411\n",
            "Iteration 670 : Loss 6357.5504\n",
            "Iteration 680 : Loss 6280.3065\n",
            "Iteration 690 : Loss 6205.7054\n",
            "Iteration 700 : Loss 6133.6474\n",
            "Iteration 710 : Loss 6064.0364\n",
            "Iteration 720 : Loss 5996.7802\n",
            "Iteration 730 : Loss 5931.7901\n",
            "Iteration 740 : Loss 5868.9809\n",
            "Iteration 750 : Loss 5808.2706\n",
            "Iteration 760 : Loss 5749.5804\n",
            "Iteration 770 : Loss 5692.8347\n",
            "Iteration 780 : Loss 5637.9606\n",
            "Iteration 790 : Loss 5584.8882\n",
            "Iteration 800 : Loss 5533.5502\n",
            "Iteration 810 : Loss 5483.8819\n",
            "Iteration 820 : Loss 5435.8211\n",
            "Iteration 830 : Loss 5389.3081\n",
            "Iteration 840 : Loss 5344.2854\n",
            "Iteration 850 : Loss 5300.6977\n",
            "Iteration 860 : Loss 5258.4919\n",
            "Iteration 870 : Loss 5217.6169\n",
            "Iteration 880 : Loss 5178.0237\n",
            "Iteration 890 : Loss 5139.6650\n",
            "Iteration 900 : Loss 5102.4954\n",
            "Iteration 910 : Loss 5066.4712\n",
            "Iteration 920 : Loss 5031.5505\n",
            "Iteration 930 : Loss 4997.6929\n",
            "Iteration 940 : Loss 4964.8595\n",
            "Iteration 950 : Loss 4933.0132\n",
            "Iteration 960 : Loss 4902.1178\n",
            "Iteration 970 : Loss 4872.1390\n",
            "Iteration 980 : Loss 4843.0435\n",
            "Iteration 990 : Loss 4814.7994\n",
            "Iteration 1000 : Loss 4787.3760\n"
          ]
        }
      ]
    },
    {
      "cell_type": "markdown",
      "source": [
        "손실함수는 4700 ~ 4800대로 떨어졌지만 3000 이하를 달성하기 위해 learning rate를 조정했다."
      ],
      "metadata": {
        "id": "_5XVLzC1Q4SY"
      }
    },
    {
      "cell_type": "markdown",
      "source": [
        "- 시도1"
      ],
      "metadata": {
        "id": "FKZssp7mSLBy"
      }
    },
    {
      "cell_type": "code",
      "source": [
        "model = Regression_Model(data=df_X, label=df_y, learning_rate=0.0001)\n",
        "a, b, c = model.fit()"
      ],
      "metadata": {
        "colab": {
          "base_uri": "https://localhost:8080/"
        },
        "id": "4bWUZK3USBfw",
        "outputId": "7bf744cb-90b0-41f4-c77e-a81b34fa2d53"
      },
      "execution_count": 141,
      "outputs": [
        {
          "output_type": "stream",
          "name": "stdout",
          "text": [
            "Iteration 10 : Loss 29668.0494\n",
            "Iteration 20 : Loss 29570.9993\n",
            "Iteration 30 : Loss 29474.3285\n",
            "Iteration 40 : Loss 29378.0356\n",
            "Iteration 50 : Loss 29282.1190\n",
            "Iteration 60 : Loss 29186.5772\n",
            "Iteration 70 : Loss 29091.4088\n",
            "Iteration 80 : Loss 28996.6122\n",
            "Iteration 90 : Loss 28902.1861\n",
            "Iteration 100 : Loss 28808.1288\n",
            "Iteration 110 : Loss 28714.4390\n",
            "Iteration 120 : Loss 28621.1153\n",
            "Iteration 130 : Loss 28528.1560\n",
            "Iteration 140 : Loss 28435.5599\n",
            "Iteration 150 : Loss 28343.3254\n",
            "Iteration 160 : Loss 28251.4512\n",
            "Iteration 170 : Loss 28159.9357\n",
            "Iteration 180 : Loss 28068.7777\n",
            "Iteration 190 : Loss 27977.9756\n",
            "Iteration 200 : Loss 27887.5280\n",
            "Iteration 210 : Loss 27797.4336\n",
            "Iteration 220 : Loss 27707.6909\n",
            "Iteration 230 : Loss 27618.2985\n",
            "Iteration 240 : Loss 27529.2551\n",
            "Iteration 250 : Loss 27440.5593\n",
            "Iteration 260 : Loss 27352.2096\n",
            "Iteration 270 : Loss 27264.2048\n",
            "Iteration 280 : Loss 27176.5434\n",
            "Iteration 290 : Loss 27089.2241\n",
            "Iteration 300 : Loss 27002.2455\n",
            "Iteration 310 : Loss 26915.6063\n",
            "Iteration 320 : Loss 26829.3052\n",
            "Iteration 330 : Loss 26743.3407\n",
            "Iteration 340 : Loss 26657.7116\n",
            "Iteration 350 : Loss 26572.4165\n",
            "Iteration 360 : Loss 26487.4541\n",
            "Iteration 370 : Loss 26402.8230\n",
            "Iteration 380 : Loss 26318.5221\n",
            "Iteration 390 : Loss 26234.5499\n",
            "Iteration 400 : Loss 26150.9051\n",
            "Iteration 410 : Loss 26067.5866\n",
            "Iteration 420 : Loss 25984.5928\n",
            "Iteration 430 : Loss 25901.9227\n",
            "Iteration 440 : Loss 25819.5748\n",
            "Iteration 450 : Loss 25737.5479\n",
            "Iteration 460 : Loss 25655.8408\n",
            "Iteration 470 : Loss 25574.4521\n",
            "Iteration 480 : Loss 25493.3807\n",
            "Iteration 490 : Loss 25412.6252\n",
            "Iteration 500 : Loss 25332.1844\n",
            "Iteration 510 : Loss 25252.0570\n",
            "Iteration 520 : Loss 25172.2419\n",
            "Iteration 530 : Loss 25092.7377\n",
            "Iteration 540 : Loss 25013.5433\n",
            "Iteration 550 : Loss 24934.6573\n",
            "Iteration 560 : Loss 24856.0787\n",
            "Iteration 570 : Loss 24777.8061\n",
            "Iteration 580 : Loss 24699.8384\n",
            "Iteration 590 : Loss 24622.1743\n",
            "Iteration 600 : Loss 24544.8126\n",
            "Iteration 610 : Loss 24467.7522\n",
            "Iteration 620 : Loss 24390.9919\n",
            "Iteration 630 : Loss 24314.5303\n",
            "Iteration 640 : Loss 24238.3665\n",
            "Iteration 650 : Loss 24162.4992\n",
            "Iteration 660 : Loss 24086.9271\n",
            "Iteration 670 : Loss 24011.6493\n",
            "Iteration 680 : Loss 23936.6644\n",
            "Iteration 690 : Loss 23861.9713\n",
            "Iteration 700 : Loss 23787.5689\n",
            "Iteration 710 : Loss 23713.4560\n",
            "Iteration 720 : Loss 23639.6314\n",
            "Iteration 730 : Loss 23566.0941\n",
            "Iteration 740 : Loss 23492.8429\n",
            "Iteration 750 : Loss 23419.8766\n",
            "Iteration 760 : Loss 23347.1941\n",
            "Iteration 770 : Loss 23274.7943\n",
            "Iteration 780 : Loss 23202.6761\n",
            "Iteration 790 : Loss 23130.8384\n",
            "Iteration 800 : Loss 23059.2800\n",
            "Iteration 810 : Loss 22987.9998\n",
            "Iteration 820 : Loss 22916.9968\n",
            "Iteration 830 : Loss 22846.2698\n",
            "Iteration 840 : Loss 22775.8178\n",
            "Iteration 850 : Loss 22705.6396\n",
            "Iteration 860 : Loss 22635.7342\n",
            "Iteration 870 : Loss 22566.1004\n",
            "Iteration 880 : Loss 22496.7373\n",
            "Iteration 890 : Loss 22427.6438\n",
            "Iteration 900 : Loss 22358.8187\n",
            "Iteration 910 : Loss 22290.2610\n",
            "Iteration 920 : Loss 22221.9696\n",
            "Iteration 930 : Loss 22153.9436\n",
            "Iteration 940 : Loss 22086.1818\n",
            "Iteration 950 : Loss 22018.6832\n",
            "Iteration 960 : Loss 21951.4467\n",
            "Iteration 970 : Loss 21884.4714\n",
            "Iteration 980 : Loss 21817.7561\n",
            "Iteration 990 : Loss 21751.2999\n",
            "Iteration 1000 : Loss 21685.1018\n"
          ]
        }
      ]
    },
    {
      "cell_type": "markdown",
      "source": [
        ": learning_rate를 0.0001로 조정했더니 오히려 좋지 않은 결과를 냈다."
      ],
      "metadata": {
        "id": "hslGEg_sSM8z"
      }
    },
    {
      "cell_type": "markdown",
      "source": [
        "- 시도2"
      ],
      "metadata": {
        "id": "p2ydnjeSScP9"
      }
    },
    {
      "cell_type": "code",
      "source": [
        "model = Regression_Model(data=df_X, label=df_y, learning_rate=0.01)\n",
        "a, b, c = model.fit()"
      ],
      "metadata": {
        "colab": {
          "base_uri": "https://localhost:8080/"
        },
        "id": "DyWiy_Q5SXKn",
        "outputId": "2e5ac257-497c-410c-cd9a-8ed8def89ac3"
      },
      "execution_count": 142,
      "outputs": [
        {
          "output_type": "stream",
          "name": "stdout",
          "text": [
            "Iteration 10 : Loss 21556.1274\n",
            "Iteration 20 : Loss 16080.0015\n",
            "Iteration 30 : Loss 12369.4996\n",
            "Iteration 40 : Loss 9843.3783\n",
            "Iteration 50 : Loss 8112.9378\n",
            "Iteration 60 : Loss 6918.1001\n",
            "Iteration 70 : Loss 6084.7250\n",
            "Iteration 80 : Loss 5496.1059\n",
            "Iteration 90 : Loss 5073.9341\n",
            "Iteration 100 : Loss 4765.5825\n",
            "Iteration 110 : Loss 4535.6117\n",
            "Iteration 120 : Loss 4360.0933\n",
            "Iteration 130 : Loss 4222.8167\n",
            "Iteration 140 : Loss 4112.7515\n",
            "Iteration 150 : Loss 4022.3511\n",
            "Iteration 160 : Loss 3946.4163\n",
            "Iteration 170 : Loss 3881.3345\n",
            "Iteration 180 : Loss 3824.5688\n",
            "Iteration 190 : Loss 3774.3156\n",
            "Iteration 200 : Loss 3729.2734\n",
            "Iteration 210 : Loss 3688.4876\n",
            "Iteration 220 : Loss 3651.2452\n",
            "Iteration 230 : Loss 3617.0029\n",
            "Iteration 240 : Loss 3585.3387\n",
            "Iteration 250 : Loss 3555.9182\n",
            "Iteration 260 : Loss 3528.4714\n",
            "Iteration 270 : Loss 3502.7766\n",
            "Iteration 280 : Loss 3478.6490\n",
            "Iteration 290 : Loss 3455.9320\n",
            "Iteration 300 : Loss 3434.4920\n",
            "Iteration 310 : Loss 3414.2135\n",
            "Iteration 320 : Loss 3394.9960\n",
            "Iteration 330 : Loss 3376.7512\n",
            "Iteration 340 : Loss 3359.4014\n",
            "Iteration 350 : Loss 3342.8777\n",
            "Iteration 360 : Loss 3327.1187\n",
            "Iteration 370 : Loss 3312.0696\n",
            "Iteration 380 : Loss 3297.6813\n",
            "Iteration 390 : Loss 3283.9095\n",
            "Iteration 400 : Loss 3270.7144\n",
            "Iteration 410 : Loss 3258.0599\n",
            "Iteration 420 : Loss 3245.9133\n",
            "Iteration 430 : Loss 3234.2448\n",
            "Iteration 440 : Loss 3223.0274\n",
            "Iteration 450 : Loss 3212.2361\n",
            "Iteration 460 : Loss 3201.8482\n",
            "Iteration 470 : Loss 3191.8429\n",
            "Iteration 480 : Loss 3182.2009\n",
            "Iteration 490 : Loss 3172.9043\n",
            "Iteration 500 : Loss 3163.9369\n",
            "Iteration 510 : Loss 3155.2832\n",
            "Iteration 520 : Loss 3146.9291\n",
            "Iteration 530 : Loss 3138.8613\n",
            "Iteration 540 : Loss 3131.0674\n",
            "Iteration 550 : Loss 3123.5359\n",
            "Iteration 560 : Loss 3116.2559\n",
            "Iteration 570 : Loss 3109.2172\n",
            "Iteration 580 : Loss 3102.4100\n",
            "Iteration 590 : Loss 3095.8254\n",
            "Iteration 600 : Loss 3089.4548\n",
            "Iteration 610 : Loss 3083.2899\n",
            "Iteration 620 : Loss 3077.3231\n",
            "Iteration 630 : Loss 3071.5471\n",
            "Iteration 640 : Loss 3065.9548\n",
            "Iteration 650 : Loss 3060.5396\n",
            "Iteration 660 : Loss 3055.2953\n",
            "Iteration 670 : Loss 3050.2157\n",
            "Iteration 680 : Loss 3045.2951\n",
            "Iteration 690 : Loss 3040.5280\n",
            "Iteration 700 : Loss 3035.9090\n",
            "Iteration 710 : Loss 3031.4331\n",
            "Iteration 720 : Loss 3027.0954\n",
            "Iteration 730 : Loss 3022.8913\n",
            "Iteration 740 : Loss 3018.8163\n",
            "Iteration 750 : Loss 3014.8661\n",
            "Iteration 760 : Loss 3011.0365\n",
            "Iteration 770 : Loss 3007.3236\n",
            "Iteration 780 : Loss 3003.7236\n",
            "Iteration 790 : Loss 3000.2326\n",
            "Iteration 800 : Loss 2996.8473\n",
            "Iteration 810 : Loss 2993.5642\n",
            "Iteration 820 : Loss 2990.3799\n",
            "Iteration 830 : Loss 2987.2913\n",
            "Iteration 840 : Loss 2984.2953\n",
            "Iteration 850 : Loss 2981.3890\n",
            "Iteration 860 : Loss 2978.5695\n",
            "Iteration 870 : Loss 2975.8340\n",
            "Iteration 880 : Loss 2973.1799\n",
            "Iteration 890 : Loss 2970.6046\n",
            "Iteration 900 : Loss 2968.1056\n",
            "Iteration 910 : Loss 2965.6805\n",
            "Iteration 920 : Loss 2963.3270\n",
            "Iteration 930 : Loss 2961.0429\n",
            "Iteration 940 : Loss 2958.8260\n",
            "Iteration 950 : Loss 2956.6741\n",
            "Iteration 960 : Loss 2954.5853\n",
            "Iteration 970 : Loss 2952.5577\n",
            "Iteration 980 : Loss 2950.5892\n",
            "Iteration 990 : Loss 2948.6782\n",
            "Iteration 1000 : Loss 2946.8227\n"
          ]
        }
      ]
    },
    {
      "cell_type": "markdown",
      "source": [
        "learning rate를 0.01로 조정했더니 목표 손실값이 나온 것을 확인할 수 있다."
      ],
      "metadata": {
        "id": "c9VV-hp0Sgd0"
      }
    },
    {
      "cell_type": "markdown",
      "source": [
        "### 🌼 예측데이터 시각화\n",
        "\n"
      ],
      "metadata": {
        "id": "u4CsLxvB0GMe"
      }
    },
    {
      "cell_type": "code",
      "source": [
        "plt.scatter(a[:, 0], b)\n",
        "plt.show()"
      ],
      "metadata": {
        "colab": {
          "base_uri": "https://localhost:8080/",
          "height": 269
        },
        "id": "2Yue-A55SsMq",
        "outputId": "bad8948b-e8b7-41f8-cfe2-9d53d712c1ec"
      },
      "execution_count": 143,
      "outputs": [
        {
          "output_type": "display_data",
          "data": {
            "text/plain": [
              "<Figure size 432x288 with 1 Axes>"
            ],
            "image/png": "[encoded data removed]"
          },
          "metadata": {
            "needs_background": "light"
          }
        }
      ]
    },
    {
      "cell_type": "markdown",
      "source": [
        "# ➰ 프로젝트2"
      ],
      "metadata": {
        "id": "uO6noBW9zzzE"
      }
    },
    {
      "cell_type": "markdown",
      "source": [
        "# ➰ 추가 학습\n",
        "\n",
        "- 다양한 모델을 사용하여 학습 진행 후 가장 성능이 좋은 모델을 선택해 다양한 손실함수 적용해 보기"
      ],
      "metadata": {
        "id": "nW482oaDlUR-"
      }
    },
    {
      "cell_type": "markdown",
      "source": [
        "# ➰ 회고\n",
        "\n",
        "간단한 프로젝트임에도 불구하고 개인적인 사정으로 시간이 부족해 주석, 자세한 설명, 회고 등을 제대로 작성하지 못하고 마무리한 것이 아쉽다.\n",
        "\n",
        "앞으로 시간 여유가 될 때마다 못 다한 프로젝트2와 추가학습, 프로젝트 수정을 거듭 진행할 예정이다."
      ],
      "metadata": {
        "id": "Tbn4VopblCYI"
      }
    },
    {
      "cell_type": "markdown",
      "source": [
        "# ➰ 참고\n",
        "\n",
        "https://hwi-doc.tistory.com/entry/matplotlib-%EC%99%84%EB%B2%BD-%EC%A0%95%EB%A6%AC\n",
        "\n",
        "https://yhyun225.tistory.com/11\n",
        "\n",
        "https://teddylee777.github.io/scikit-learn/gradient-descent\n",
        "\n",
        "\n",
        "프로젝트 2에서 사용한 데이터 입니다.\n"
      ],
      "metadata": {
        "id": "__GMZk4wk2in"
      }
    }
  ]
}